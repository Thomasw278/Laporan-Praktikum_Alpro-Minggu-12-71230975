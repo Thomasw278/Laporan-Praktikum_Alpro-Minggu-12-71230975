{
 "cells": [
  {
   "cell_type": "code",
   "execution_count": null,
   "id": "86b0c62d",
   "metadata": {},
   "outputs": [],
   "source": [
    "def cekangka(angka):\n",
    "    angka = set(angka)\n",
    "    if len(angka) == 1:\n",
    "        return True\n",
    "    else:\n",
    "        return False\n",
    "    \n",
    "#Contoh Test Case \n",
    "tA = (90,90,90,90)\n",
    "print(cekangka(tA))\n",
    "tB = (90,90,90,80)\n",
    "print(cekangka(tB))"
   ]
  },
  {
   "cell_type": "code",
   "execution_count": null,
   "id": "0e51feef",
   "metadata": {},
   "outputs": [],
   "source": [
    "Data = ('Thomas Aquinas Ryan Wisnu Adi', '71230975', 'Mertoyudan, Magelang')\n",
    "print(f\"Data    : {Data}\\n\")\n",
    "NIM = Data[1]\n",
    "print(f\"NIM     : {NIM}\")\n",
    "NAMA = Data[0]\n",
    "print(f\"NAMA    : {NAMA}\")\n",
    "ALAMAT = Data[2]\n",
    "print(f\"ALAMAT  : {ALAMAT}\\n\")\n",
    "\n",
    "#NIM : \n",
    "NIM = list(Data[1])\n",
    "NIM = tuple(NIM)\n",
    "print(f\"NIM    : {NIM}\\n\")\n",
    "\n",
    "#NAMA DEPAN : \n",
    "NAMA_DEPAN = NAMA.split()\n",
    "NAMA_DEPAN = list(NAMA_DEPAN[0])\n",
    "NAMA_DEPAN = NAMA_DEPAN[1:]\n",
    "NAMA_DEPAN = tuple(NAMA_DEPAN)\n",
    "print(f\"NAMA DEPAN : {NAMA_DEPAN}\\n\")\n",
    "\n",
    "#NAMA TERBALIK : \n",
    "NAMA_TERBALIK = NAMA.split()\n",
    "NAMA_TERBALIK = NAMA_TERBALIK[::-1]\n",
    "NAMA_TERBALIK = tuple(NAMA_TERBALIK)\n",
    "print(f\"NAMA TERBALIK : {NAMA_TERBALIK}\\n\")"
   ]
  },
  {
   "cell_type": "code",
   "execution_count": null,
   "id": "75da1615",
   "metadata": {},
   "outputs": [],
   "source": [
    "nama = input(\"Enter a file name \\n>> \")\n",
    "try:\n",
    "    Buka = open(nama)\n",
    "except:\n",
    "    print(f'Fie tidak bisa dibuka !!, dengan nama file yaitu {nama}.txt')\n",
    "    exit()  \n",
    "Hari = dict()\n",
    "for i in Buka:\n",
    "    if i.startswith(\"From \"):\n",
    "        Pemisah = i.split()\n",
    "        Jam = Pemisah[5]\n",
    "        Pemisah = str(Jam)\n",
    "        Jam = Pemisah.split(\":\")\n",
    "        Jam = Pemisah[0:2]\n",
    "        if Jam in Hari:\n",
    "            Hari[Jam] += 1\n",
    "        else:\n",
    "            Hari[Jam] = 1\n",
    "#Mengurutkan\n",
    "Urutan = list()\n",
    "for key,val in list(Hari.items()):\n",
    "    Urutan.append((key,val))\n",
    "Urutan.sort()\n",
    "for key, val in Urutan:\n",
    "    print(key, val)"
   ]
  }
 ],
 "metadata": {
  "kernelspec": {
   "display_name": "Python 3 (ipykernel)",
   "language": "python",
   "name": "python3"
  },
  "language_info": {
   "codemirror_mode": {
    "name": "ipython",
    "version": 3
   },
   "file_extension": ".py",
   "mimetype": "text/x-python",
   "name": "python",
   "nbconvert_exporter": "python",
   "pygments_lexer": "ipython3",
   "version": "3.11.5"
  }
 },
 "nbformat": 4,
 "nbformat_minor": 5
}
